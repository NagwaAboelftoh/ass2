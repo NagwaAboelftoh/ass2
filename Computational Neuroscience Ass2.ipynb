{
 "cells": [
  {
   "cell_type": "code",
   "execution_count": 3,
   "id": "3b4c8cfc-05ce-4274-ad4f-f3239375aa88",
   "metadata": {},
   "outputs": [],
   "source": [
    "import numpy as np\n",
    "\n",
    "def sigmoid(x):\n",
    "    return 1 / (1 + np.exp(-x))\n",
    "\n",
    "def sigmoid_derivative(x):\n",
    "    return x * (1 - x)\n"
   ]
  },
  {
   "cell_type": "code",
   "execution_count": 5,
   "id": "0c895c84-9817-443b-8fd5-491b10810f0d",
   "metadata": {},
   "outputs": [],
   "source": [
    "inputs = np.array([0.05, 0.10])\n",
    "targets = np.array([0.01, 0.99])\n",
    "\n",
    "weights_input_hidden = np.array([[0.15, 0.20], [0.25, 0.30]])\n",
    "weights_hidden_output = np.array([[0.40, 0.45], [0.50, 0.55]])\n",
    "\n",
    "bias_hidden = np.array([0.35, 0.35])\n",
    "bias_output = np.array([0.60, 0.60])\n"
   ]
  },
  {
   "cell_type": "code",
   "execution_count": 7,
   "id": "2fd0d3d2-89e0-4a9d-97c2-eb4cc92cf708",
   "metadata": {},
   "outputs": [],
   "source": [
    "hidden_input = np.dot(inputs, weights_input_hidden) + bias_hidden\n",
    "hidden_output = sigmoid(hidden_input)\n",
    "\n",
    "final_input = np.dot(hidden_output, weights_hidden_output) + bias_output\n",
    "final_output = sigmoid(final_input)\n"
   ]
  },
  {
   "cell_type": "code",
   "execution_count": 9,
   "id": "2b9968a2-89df-4157-a49e-4c0fb4f3107b",
   "metadata": {},
   "outputs": [],
   "source": [
    "error = 0.5 * ((targets - final_output) ** 2)\n"
   ]
  },
  {
   "cell_type": "code",
   "execution_count": 11,
   "id": "ae6ee7aa-4f3a-44e7-88b0-1d93093ff472",
   "metadata": {},
   "outputs": [],
   "source": [
    "output_error = final_output - targets\n",
    "output_delta = output_error * sigmoid_derivative(final_output)\n",
    "\n",
    "hidden_error = np.dot(output_delta, weights_hidden_output.T)\n",
    "hidden_delta = hidden_error * sigmoid_derivative(hidden_output)\n"
   ]
  },
  {
   "cell_type": "code",
   "execution_count": 13,
   "id": "b1a0bf1e-67d5-4f4c-94ea-8f02dbe5b826",
   "metadata": {},
   "outputs": [],
   "source": [
    "learning_rate = 0.5\n",
    "weights_hidden_output -= learning_rate * np.outer(hidden_output, output_delta)\n",
    "weights_input_hidden -= learning_rate * np.outer(inputs, hidden_delta)\n",
    "\n",
    "bias_output -= learning_rate * output_delta\n",
    "bias_hidden -= learning_rate * hidden_delta\n"
   ]
  },
  {
   "cell_type": "code",
   "execution_count": 15,
   "id": "59ab8b0a-8666-41f7-ad77-c9cfb12cde2a",
   "metadata": {},
   "outputs": [
    {
     "name": "stdout",
     "output_type": "stream",
     "text": [
      "Final Output: [0.75693192 0.76771788]\n",
      "Updated Weights (Hidden to Output): [[0.35915207 0.4617822 ]\n",
      " [0.45902792 0.56181801]]\n",
      "Updated Weights (Input to Hidden): [[0.14977621 0.19971768]\n",
      " [0.24955242 0.29943536]]\n",
      "Updated Biases (Hidden Layer): [0.34552416 0.34435355]\n",
      "Updated Biases (Output Layer): [0.5312875  0.61981947]\n"
     ]
    }
   ],
   "source": [
    "print(\"Final Output:\", final_output)\n",
    "print(\"Updated Weights (Hidden to Output):\", weights_hidden_output)\n",
    "print(\"Updated Weights (Input to Hidden):\", weights_input_hidden)\n",
    "print(\"Updated Biases (Hidden Layer):\", bias_hidden)\n",
    "print(\"Updated Biases (Output Layer):\", bias_output)\n"
   ]
  },
  {
   "cell_type": "code",
   "execution_count": null,
   "id": "cef0deba-b7c8-4c4e-927b-2aa654bd0b59",
   "metadata": {},
   "outputs": [],
   "source": []
  }
 ],
 "metadata": {
  "kernelspec": {
   "display_name": "Python [conda env:base] *",
   "language": "python",
   "name": "conda-base-py"
  },
  "language_info": {
   "codemirror_mode": {
    "name": "ipython",
    "version": 3
   },
   "file_extension": ".py",
   "mimetype": "text/x-python",
   "name": "python",
   "nbconvert_exporter": "python",
   "pygments_lexer": "ipython3",
   "version": "3.12.7"
  }
 },
 "nbformat": 4,
 "nbformat_minor": 5
}
